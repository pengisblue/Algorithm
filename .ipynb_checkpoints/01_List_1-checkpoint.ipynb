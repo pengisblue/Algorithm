{
 "cells": [
  {
   "cell_type": "markdown",
   "id": "ca032c92-3a2f-4fc5-b9e1-a49d705e0ef1",
   "metadata": {},
   "source": [
    "### 11720 숫자의 합"
   ]
  },
  {
   "cell_type": "code",
   "execution_count": null,
   "id": "988c9c7d-5de2-4e26-8b8a-e0ffc91eeec8",
   "metadata": {},
   "outputs": [],
   "source": [
    "N = int(input())\n",
    "M = input()\n",
    "result = 0\n",
    "for i in range(N):\n",
    "    result += int(M[i])\n",
    "print(result)"
   ]
  },
  {
   "cell_type": "markdown",
   "id": "f90b2066-5df8-4080-868f-4e0af28104b1",
   "metadata": {},
   "source": [
    "### 1546 평균"
   ]
  },
  {
   "cell_type": "code",
   "execution_count": null,
   "id": "3cc8e025-302a-43ed-8c8c-3ef8e49a5c57",
   "metadata": {},
   "outputs": [],
   "source": [
    "N = int(input())\n",
    "scores = list(map(int, input().split()))\n",
    "M = scores[0]  # 점수 중 최댓값\n",
    "scores_sum = 0 # 새로운 점수들의 합\n",
    "for i in range(N):\n",
    "    if M < scores[i]:\n",
    "        M = scores[i]\n",
    "\n",
    "for score in scores:\n",
    "    score = score / M * 100\n",
    "    scores_sum += score\n",
    "\n",
    "average = scores_sum / N  # 평균\n",
    "print(average)"
   ]
  },
  {
   "cell_type": "code",
   "execution_count": null,
   "id": "0a9b7300-bfaa-4901-b0fe-16fcf13661b4",
   "metadata": {},
   "outputs": [],
   "source": [
    "N = int(input())\n",
    "scores = list(map(int, input().split()))\n",
    "M = scores[0]  # 최댓값\n",
    "scores_sum = 0  # 점수 합\n",
    "for score in scores:\n",
    "    if M < score:\n",
    "        M = score\n",
    "    scores_sum += score\n",
    "\n",
    "average = (scores_sum / M * 100) / N\n",
    "print(average)"
   ]
  },
  {
   "cell_type": "markdown",
   "id": "6aaf37b4-6a44-450b-a3bc-99cfce5d71e5",
   "metadata": {},
   "source": [
    "### 11659 구간 합 구하기 4\n",
    "- S[i] = S[i - 1] + A[i]\n",
    "- prefix sum\n",
    "    - S[j] - S[i - 1]"
   ]
  },
  {
   "cell_type": "code",
   "execution_count": null,
   "id": "321b6b7f-5d5e-4a8e-a8d6-a642ee435256",
   "metadata": {},
   "outputs": [],
   "source": [
    "import sys\n",
    "input = sys.stdin.readline\n",
    "\n",
    "N, M = map(int, input().split())  # 개수, 합을 구하는 횟수\n",
    "numbers = list(map(int, input().split()))\n",
    "prefix_sum = [0]\n",
    "sum_numbers = 0\n",
    "for number in numbers:\n",
    "    sum_numbers += number\n",
    "    prefix_sum.append(sum_numbers)  # 합배열\n",
    "\n",
    "for i in range(M):\n",
    "    i, j = map(int, input().split())  # 합을 구해야 하는 구간\n",
    "    result = prefix_sum[j] - prefix_sum[i - 1]  # 구간 합\n",
    "    print(result)"
   ]
  },
  {
   "cell_type": "markdown",
   "id": "53a89b67-3a2b-4841-b386-5c7644688f15",
   "metadata": {},
   "source": [
    "### 11600 구간 합 구하기 5"
   ]
  },
  {
   "cell_type": "code",
   "execution_count": null,
   "id": "26c5213a-3c21-4025-ad57-f0ffdd8c37b4",
   "metadata": {},
   "outputs": [],
   "source": [
    "import sys\n",
    "input = sys.stdin.readline\n",
    "\n",
    "N, M= map(int, input().split())  # 크기, 횟수\n",
    "numbers = [list(map(int, input().split())) for i in range(N)]\n",
    "prefix_sums = [0] * N\n",
    "\n",
    "for i in range(N):\n",
    "    prefix_sum = [0]\n",
    "    temp = 0\n",
    "    for j in range(N):\n",
    "        temp += numbers[i][j]\n",
    "        prefix_sum.append(temp)\n",
    "    prefix_sums.append(prefix_sum)\n",
    "\n",
    "for i in range(M):\n",
    "    x1, y1, x2, y2 = map(int, input().split())\n",
    "    result = 0\n",
    "    for i in range(x1, x2+1):\n",
    "        result += prefix_sums[i][y2] - prefix_sums[i][y1-1]\n",
    "    print(result)"
   ]
  }
 ],
 "metadata": {
  "kernelspec": {
   "display_name": "Python 3 (ipykernel)",
   "language": "python",
   "name": "python3"
  },
  "language_info": {
   "codemirror_mode": {
    "name": "ipython",
    "version": 3
   },
   "file_extension": ".py",
   "mimetype": "text/x-python",
   "name": "python",
   "nbconvert_exporter": "python",
   "pygments_lexer": "ipython3",
   "version": "3.9.13"
  }
 },
 "nbformat": 4,
 "nbformat_minor": 5
}
